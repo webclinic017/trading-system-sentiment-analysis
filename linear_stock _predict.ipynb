{
 "metadata": {
  "language_info": {
   "codemirror_mode": {
    "name": "ipython",
    "version": 3
   },
   "file_extension": ".py",
   "mimetype": "text/x-python",
   "name": "python",
   "nbconvert_exporter": "python",
   "pygments_lexer": "ipython3",
   "version": "3.8.7-final"
  },
  "orig_nbformat": 2,
  "kernelspec": {
   "name": "python3",
   "display_name": "Python 3",
   "language": "python"
  }
 },
 "nbformat": 4,
 "nbformat_minor": 2,
 "cells": [
  {
   "cell_type": "code",
   "execution_count": 11,
   "metadata": {},
   "outputs": [],
   "source": [
    "import numpy as np\n",
    "import pandas as pd\n",
    "import hvplot.pandas\n",
    "from pathlib import Path\n",
    "import matplotlib.pyplot as plt\n",
    "\n",
    "%matplotlib inline"
   ]
  },
  {
   "cell_type": "code",
   "execution_count": 12,
   "metadata": {},
   "outputs": [],
   "source": [
    "from sklearn.model_selection import train_test_split\n",
    "from sklearn.metrics import accuracy_score, classification_report\n",
    "from sklearn.discriminant_analysis import LinearDiscriminantAnalysis"
   ]
  },
  {
   "cell_type": "code",
   "execution_count": 13,
   "metadata": {},
   "outputs": [
    {
     "output_type": "execute_result",
     "data": {
      "text/plain": [
       "            compound  positive  negative  neutral\n",
       "date                                             \n",
       "2020-01-01  -0.86250    0.0000    0.3140   0.6860\n",
       "2020-01-02   0.04029    0.0651    0.0460   0.8889\n",
       "2020-01-03  -0.02382    0.0496    0.0564   0.8940\n",
       "2020-01-04  -0.22940    0.0000    0.0515   0.9485\n",
       "2020-01-05   0.14800    0.0495    0.0280   0.9225"
      ],
      "text/html": "<div>\n<style scoped>\n    .dataframe tbody tr th:only-of-type {\n        vertical-align: middle;\n    }\n\n    .dataframe tbody tr th {\n        vertical-align: top;\n    }\n\n    .dataframe thead th {\n        text-align: right;\n    }\n</style>\n<table border=\"1\" class=\"dataframe\">\n  <thead>\n    <tr style=\"text-align: right;\">\n      <th></th>\n      <th>compound</th>\n      <th>positive</th>\n      <th>negative</th>\n      <th>neutral</th>\n    </tr>\n    <tr>\n      <th>date</th>\n      <th></th>\n      <th></th>\n      <th></th>\n      <th></th>\n    </tr>\n  </thead>\n  <tbody>\n    <tr>\n      <th>2020-01-01</th>\n      <td>-0.86250</td>\n      <td>0.0000</td>\n      <td>0.3140</td>\n      <td>0.6860</td>\n    </tr>\n    <tr>\n      <th>2020-01-02</th>\n      <td>0.04029</td>\n      <td>0.0651</td>\n      <td>0.0460</td>\n      <td>0.8889</td>\n    </tr>\n    <tr>\n      <th>2020-01-03</th>\n      <td>-0.02382</td>\n      <td>0.0496</td>\n      <td>0.0564</td>\n      <td>0.8940</td>\n    </tr>\n    <tr>\n      <th>2020-01-04</th>\n      <td>-0.22940</td>\n      <td>0.0000</td>\n      <td>0.0515</td>\n      <td>0.9485</td>\n    </tr>\n    <tr>\n      <th>2020-01-05</th>\n      <td>0.14800</td>\n      <td>0.0495</td>\n      <td>0.0280</td>\n      <td>0.9225</td>\n    </tr>\n  </tbody>\n</table>\n</div>"
     },
     "metadata": {},
     "execution_count": 13
    }
   ],
   "source": [
    "df = pd.read_csv('data/pfizer_sentiment_analysis.csv', index_col=\"date\", infer_datetime_format=True, parse_dates=True)\n",
    "df = df.resample('D').mean()\n",
    "df.head()"
   ]
  },
  {
   "cell_type": "code",
   "execution_count": 14,
   "metadata": {},
   "outputs": [
    {
     "output_type": "execute_result",
     "data": {
      "text/plain": [
       "              c      h      l      o         v\n",
       "t                                             \n",
       "2020-01-03  0.0  39.24  38.67  38.72  11193319\n",
       "2020-01-06  0.0  39.00  38.70  38.82  10206988\n",
       "2020-01-07  0.0  39.13  38.68  39.12  14328671\n",
       "2020-01-08  1.0  39.22  38.75  38.76  12580358\n",
       "2020-01-09  0.0  39.27  38.79  39.27  15754368"
      ],
      "text/html": "<div>\n<style scoped>\n    .dataframe tbody tr th:only-of-type {\n        vertical-align: middle;\n    }\n\n    .dataframe tbody tr th {\n        vertical-align: top;\n    }\n\n    .dataframe thead th {\n        text-align: right;\n    }\n</style>\n<table border=\"1\" class=\"dataframe\">\n  <thead>\n    <tr style=\"text-align: right;\">\n      <th></th>\n      <th>c</th>\n      <th>h</th>\n      <th>l</th>\n      <th>o</th>\n      <th>v</th>\n    </tr>\n    <tr>\n      <th>t</th>\n      <th></th>\n      <th></th>\n      <th></th>\n      <th></th>\n      <th></th>\n    </tr>\n  </thead>\n  <tbody>\n    <tr>\n      <th>2020-01-03</th>\n      <td>0.0</td>\n      <td>39.24</td>\n      <td>38.67</td>\n      <td>38.72</td>\n      <td>11193319</td>\n    </tr>\n    <tr>\n      <th>2020-01-06</th>\n      <td>0.0</td>\n      <td>39.00</td>\n      <td>38.70</td>\n      <td>38.82</td>\n      <td>10206988</td>\n    </tr>\n    <tr>\n      <th>2020-01-07</th>\n      <td>0.0</td>\n      <td>39.13</td>\n      <td>38.68</td>\n      <td>39.12</td>\n      <td>14328671</td>\n    </tr>\n    <tr>\n      <th>2020-01-08</th>\n      <td>1.0</td>\n      <td>39.22</td>\n      <td>38.75</td>\n      <td>38.76</td>\n      <td>12580358</td>\n    </tr>\n    <tr>\n      <th>2020-01-09</th>\n      <td>0.0</td>\n      <td>39.27</td>\n      <td>38.79</td>\n      <td>39.27</td>\n      <td>15754368</td>\n    </tr>\n  </tbody>\n</table>\n</div>"
     },
     "metadata": {},
     "execution_count": 14
    }
   ],
   "source": [
    "df2 = pd.read_csv('data/pfizer_prices.csv', index_col=\"t\", infer_datetime_format=True, parse_dates=True)\n",
    "df2[\"c\"] = df2[\"c\"].pct_change()\n",
    "df2 = df2.dropna()\n",
    "df2[\"c\"][df2[\"c\"] < 0] = 0\n",
    "df2[\"c\"][df2[\"c\"] > 0] = 1\n",
    "df2.head()"
   ]
  },
  {
   "cell_type": "code",
   "execution_count": 15,
   "metadata": {},
   "outputs": [
    {
     "output_type": "execute_result",
     "data": {
      "text/plain": [
       "            compound  positive  negative   neutral    c      h      l      o  \\\n",
       "2020-01-03 -0.023820  0.049600  0.056400  0.894000  0.0  39.24  38.67  38.72   \n",
       "2020-01-06 -0.070842  0.035917  0.045500  0.918583  0.0  39.00  38.70  38.82   \n",
       "2020-01-07  0.086780  0.038700  0.009400  0.951900  0.0  39.13  38.68  39.12   \n",
       "2020-01-08  0.135414  0.052714  0.011000  0.936286  1.0  39.22  38.75  38.76   \n",
       "2020-01-09 -0.108008  0.025917  0.057417  0.916917  0.0  39.27  38.79  39.27   \n",
       "\n",
       "                     v  \n",
       "2020-01-03  11193319.0  \n",
       "2020-01-06  10206988.0  \n",
       "2020-01-07  14328671.0  \n",
       "2020-01-08  12580358.0  \n",
       "2020-01-09  15754368.0  "
      ],
      "text/html": "<div>\n<style scoped>\n    .dataframe tbody tr th:only-of-type {\n        vertical-align: middle;\n    }\n\n    .dataframe tbody tr th {\n        vertical-align: top;\n    }\n\n    .dataframe thead th {\n        text-align: right;\n    }\n</style>\n<table border=\"1\" class=\"dataframe\">\n  <thead>\n    <tr style=\"text-align: right;\">\n      <th></th>\n      <th>compound</th>\n      <th>positive</th>\n      <th>negative</th>\n      <th>neutral</th>\n      <th>c</th>\n      <th>h</th>\n      <th>l</th>\n      <th>o</th>\n      <th>v</th>\n    </tr>\n  </thead>\n  <tbody>\n    <tr>\n      <th>2020-01-03</th>\n      <td>-0.023820</td>\n      <td>0.049600</td>\n      <td>0.056400</td>\n      <td>0.894000</td>\n      <td>0.0</td>\n      <td>39.24</td>\n      <td>38.67</td>\n      <td>38.72</td>\n      <td>11193319.0</td>\n    </tr>\n    <tr>\n      <th>2020-01-06</th>\n      <td>-0.070842</td>\n      <td>0.035917</td>\n      <td>0.045500</td>\n      <td>0.918583</td>\n      <td>0.0</td>\n      <td>39.00</td>\n      <td>38.70</td>\n      <td>38.82</td>\n      <td>10206988.0</td>\n    </tr>\n    <tr>\n      <th>2020-01-07</th>\n      <td>0.086780</td>\n      <td>0.038700</td>\n      <td>0.009400</td>\n      <td>0.951900</td>\n      <td>0.0</td>\n      <td>39.13</td>\n      <td>38.68</td>\n      <td>39.12</td>\n      <td>14328671.0</td>\n    </tr>\n    <tr>\n      <th>2020-01-08</th>\n      <td>0.135414</td>\n      <td>0.052714</td>\n      <td>0.011000</td>\n      <td>0.936286</td>\n      <td>1.0</td>\n      <td>39.22</td>\n      <td>38.75</td>\n      <td>38.76</td>\n      <td>12580358.0</td>\n    </tr>\n    <tr>\n      <th>2020-01-09</th>\n      <td>-0.108008</td>\n      <td>0.025917</td>\n      <td>0.057417</td>\n      <td>0.916917</td>\n      <td>0.0</td>\n      <td>39.27</td>\n      <td>38.79</td>\n      <td>39.27</td>\n      <td>15754368.0</td>\n    </tr>\n  </tbody>\n</table>\n</div>"
     },
     "metadata": {},
     "execution_count": 15
    }
   ],
   "source": [
    "df = pd.concat([df,df2], axis =1)\n",
    "df = df.dropna()\n",
    "df.head()"
   ]
  },
  {
   "cell_type": "code",
   "execution_count": 16,
   "metadata": {},
   "outputs": [],
   "source": [
    "X = df.drop([\"c\"], axis=1)\n",
    "y = df[\"c\"]"
   ]
  },
  {
   "cell_type": "code",
   "execution_count": 17,
   "metadata": {},
   "outputs": [],
   "source": [
    "x_train, x_test, y_train, y_test = train_test_split(X, y, test_size=0.2, random_state = 50)"
   ]
  },
  {
   "cell_type": "code",
   "execution_count": 18,
   "metadata": {},
   "outputs": [],
   "source": [
    "model = LinearDiscriminantAnalysis().fit(x_train, y_train)"
   ]
  },
  {
   "cell_type": "code",
   "execution_count": 19,
   "metadata": {},
   "outputs": [],
   "source": [
    "predictions = model.predict(x_test)"
   ]
  },
  {
   "cell_type": "code",
   "execution_count": 20,
   "metadata": {},
   "outputs": [
    {
     "output_type": "stream",
     "name": "stdout",
     "text": [
      "              precision    recall  f1-score   support\n\n         0.0       0.56      0.69      0.62        26\n         1.0       0.38      0.26      0.31        19\n\n    accuracy                           0.51        45\n   macro avg       0.47      0.48      0.47        45\nweighted avg       0.49      0.51      0.49        45\n\n"
     ]
    }
   ],
   "source": [
    "print(classification_report(y_test, predictions))"
   ]
  },
  {
   "cell_type": "code",
   "execution_count": 22,
   "metadata": {},
   "outputs": [
    {
     "output_type": "execute_result",
     "data": {
      "text/plain": [
       "array([1., 0., 1., 1., 0., 1., 0., 0., 1., 0., 0., 1., 0., 0., 0., 1., 0.,\n",
       "       1., 0., 1., 0., 0., 0., 1., 0., 0., 0., 0., 1., 0., 1., 1., 1., 0.,\n",
       "       0., 0., 0., 0., 0., 0., 1., 0., 0., 0., 0.])"
      ]
     },
     "metadata": {},
     "execution_count": 22
    }
   ],
   "source": [
    "predictions"
   ]
  },
  {
   "cell_type": "code",
   "execution_count": 23,
   "metadata": {},
   "outputs": [
    {
     "output_type": "execute_result",
     "data": {
      "text/plain": [
       "            compound  positive  negative   neutral        h        l        o  \\\n",
       "2020-09-28  0.054320  0.041400  0.029900  0.928700  36.5750  36.1600  36.1600   \n",
       "2020-05-21  0.073233  0.085500  0.065333  0.849167  37.6500  37.0500  37.5700   \n",
       "2020-08-12  0.132878  0.072778  0.036222  0.891000  38.5500  37.8100  37.8300   \n",
       "2020-03-02  0.179400  0.055364  0.000000  0.944636  34.9500  33.4450  33.9100   \n",
       "2020-01-06 -0.070842  0.035917  0.045500  0.918583  39.0000  38.7000  38.8200   \n",
       "2020-04-14 -0.089310  0.037100  0.066100  0.896800  36.6300  35.3350  35.9300   \n",
       "2020-07-01  0.237445  0.099850  0.023600  0.876550  34.5400  33.7200  34.5400   \n",
       "2020-08-03  0.037380  0.072600  0.056600  0.870800  38.6600  38.2400  38.6100   \n",
       "2020-09-22  0.357878  0.146889  0.027889  0.825222  36.3300  35.7400  35.8100   \n",
       "2020-09-24  0.156400  0.090000  0.038818  0.871182  36.0400  35.5400  35.9500   \n",
       "2020-02-10  0.148925  0.053500  0.010625  0.935875  38.2200  37.7200  38.2100   \n",
       "2020-07-17  0.165900  0.143000  0.062500  0.794500  36.3300  35.7250  35.8600   \n",
       "2020-03-23  0.116429  0.063429  0.022857  0.913714  29.5800  27.8800  28.7600   \n",
       "2020-06-26  0.245322  0.093556  0.031111  0.875333  32.2800  31.6100  32.2500   \n",
       "2020-02-06  0.120753  0.068895  0.029737  0.901474  38.5000  38.0300  38.4400   \n",
       "2020-02-03  0.121809  0.059091  0.027273  0.913636  38.0351  37.3000  37.4600   \n",
       "2020-05-04  0.217018  0.081182  0.013909  0.904909  37.9200  37.4100  37.6000   \n",
       "2020-05-11 -0.013333  0.043667  0.042889  0.913444  38.2100  37.1600  37.2500   \n",
       "2020-02-07  0.080233  0.070750  0.045250  0.884000  38.4000  37.9300  38.3600   \n",
       "2020-04-23  0.170750  0.070000  0.027571  0.902429  37.4000  36.2800  36.2800   \n",
       "2020-03-03  0.304011  0.086000  0.007000  0.906889  35.7800  33.8600  35.1800   \n",
       "2020-10-14  0.128600  0.043286  0.000000  0.956714  37.3000  36.5700  37.0100   \n",
       "2020-07-21  0.159100  0.039000  0.000000  0.961000  37.0792  36.5200  36.9400   \n",
       "2020-10-16  0.206800  0.072000  0.013500  0.914333  38.1200  37.0200  37.0700   \n",
       "2020-12-18  0.099274  0.047143  0.021486  0.931429  38.0900  37.5000  37.9900   \n",
       "2020-02-24  0.168586  0.056857  0.007357  0.935786  35.3950  34.6000  35.0400   \n",
       "2020-02-28  0.220362  0.080000  0.016750  0.903375  33.9400  32.5300  33.4900   \n",
       "2020-09-21  0.026040  0.086200  0.072000  0.841800  36.4800  35.3750  36.3700   \n",
       "2020-09-02  0.082140  0.076000  0.028800  0.895200  37.3000  36.4000  36.7699   \n",
       "2020-04-21  0.058478  0.092778  0.058000  0.849222  35.9300  35.3700  35.7800   \n",
       "2020-01-27 -0.011562  0.022750  0.022500  0.954750  40.4300  39.2500  39.4100   \n",
       "2020-01-15  0.421836  0.135500  0.005214  0.859286  40.8700  40.1700  40.1900   \n",
       "2020-12-31  0.131700  0.088600  0.057333  0.854000  36.9200  36.2900  36.6600   \n",
       "2020-05-26  0.153262  0.082000  0.027875  0.890125  37.8700  37.4500  37.6500   \n",
       "2020-01-22  0.274200  0.109000  0.027500  0.863667  40.4100  39.9700  40.3200   \n",
       "2020-05-12  0.068506  0.057312  0.039563  0.903125  38.2400  37.3600  38.1200   \n",
       "2020-12-29  0.300025  0.096250  0.000000  0.903750  37.2000  36.7900  36.9000   \n",
       "2020-10-01 -0.341300  0.000000  0.108750  0.891250  37.0900  36.1628  36.9100   \n",
       "2020-09-04  0.149957  0.066571  0.011714  0.921714  36.6300  35.8700  36.4900   \n",
       "2020-08-06  0.157150  0.085300  0.047400  0.867200  39.1000  38.1510  38.7700   \n",
       "2020-09-18  0.041664  0.086273  0.068182  0.845545  37.0700  36.5700  36.7800   \n",
       "2020-10-29  0.034233  0.017667  0.000000  0.982333  35.6400  34.6000  35.4800   \n",
       "2020-04-20  0.131630  0.046100  0.007800  0.946000  36.9100  36.0800  36.3800   \n",
       "2020-06-16  0.119000  0.053250  0.029917  0.916833  33.9600  32.7200  33.5900   \n",
       "2020-07-24  0.074056  0.050667  0.036111  0.913222  38.1500  37.3250  38.0300   \n",
       "\n",
       "                     v  \n",
       "2020-09-28  11631390.0  \n",
       "2020-05-21  28639057.0  \n",
       "2020-08-12  33983446.0  \n",
       "2020-03-02  31505102.0  \n",
       "2020-01-06  10206988.0  \n",
       "2020-04-14  33641572.0  \n",
       "2020-07-01  61063678.0  \n",
       "2020-08-03  27225104.0  \n",
       "2020-09-22  19031807.0  \n",
       "2020-09-24  17826964.0  \n",
       "2020-02-10  14166100.0  \n",
       "2020-07-17  20611879.0  \n",
       "2020-03-23  84903734.0  \n",
       "2020-06-26  27065445.0  \n",
       "2020-02-06  17122070.0  \n",
       "2020-02-03  16592344.0  \n",
       "2020-05-04  31634085.0  \n",
       "2020-05-11  33280155.0  \n",
       "2020-02-07  17385105.0  \n",
       "2020-04-23  33193184.0  \n",
       "2020-03-03  36634538.0  \n",
       "2020-10-14  34768040.0  \n",
       "2020-07-21  20517313.0  \n",
       "2020-10-16  73118411.0  \n",
       "2020-12-18  41535254.0  \n",
       "2020-02-24  27975406.0  \n",
       "2020-02-28  51304222.0  \n",
       "2020-09-21  21347832.0  \n",
       "2020-09-02  46395828.0  \n",
       "2020-04-21  40218480.0  \n",
       "2020-01-27  24183359.0  \n",
       "2020-01-15  18559687.0  \n",
       "2020-12-31  26449409.0  \n",
       "2020-05-26  36564836.0  \n",
       "2020-01-22  28521444.0  \n",
       "2020-05-12  28575545.0  \n",
       "2020-12-29  21158263.0  \n",
       "2020-10-01  35619937.0  \n",
       "2020-09-04  42774557.0  \n",
       "2020-08-06  36220406.0  \n",
       "2020-09-18  21418786.0  \n",
       "2020-10-29  45430653.0  \n",
       "2020-04-20  33160628.0  \n",
       "2020-06-16  98892754.0  \n",
       "2020-07-24  27487083.0  "
      ],
      "text/html": "<div>\n<style scoped>\n    .dataframe tbody tr th:only-of-type {\n        vertical-align: middle;\n    }\n\n    .dataframe tbody tr th {\n        vertical-align: top;\n    }\n\n    .dataframe thead th {\n        text-align: right;\n    }\n</style>\n<table border=\"1\" class=\"dataframe\">\n  <thead>\n    <tr style=\"text-align: right;\">\n      <th></th>\n      <th>compound</th>\n      <th>positive</th>\n      <th>negative</th>\n      <th>neutral</th>\n      <th>h</th>\n      <th>l</th>\n      <th>o</th>\n      <th>v</th>\n    </tr>\n  </thead>\n  <tbody>\n    <tr>\n      <th>2020-09-28</th>\n      <td>0.054320</td>\n      <td>0.041400</td>\n      <td>0.029900</td>\n      <td>0.928700</td>\n      <td>36.5750</td>\n      <td>36.1600</td>\n      <td>36.1600</td>\n      <td>11631390.0</td>\n    </tr>\n    <tr>\n      <th>2020-05-21</th>\n      <td>0.073233</td>\n      <td>0.085500</td>\n      <td>0.065333</td>\n      <td>0.849167</td>\n      <td>37.6500</td>\n      <td>37.0500</td>\n      <td>37.5700</td>\n      <td>28639057.0</td>\n    </tr>\n    <tr>\n      <th>2020-08-12</th>\n      <td>0.132878</td>\n      <td>0.072778</td>\n      <td>0.036222</td>\n      <td>0.891000</td>\n      <td>38.5500</td>\n      <td>37.8100</td>\n      <td>37.8300</td>\n      <td>33983446.0</td>\n    </tr>\n    <tr>\n      <th>2020-03-02</th>\n      <td>0.179400</td>\n      <td>0.055364</td>\n      <td>0.000000</td>\n      <td>0.944636</td>\n      <td>34.9500</td>\n      <td>33.4450</td>\n      <td>33.9100</td>\n      <td>31505102.0</td>\n    </tr>\n    <tr>\n      <th>2020-01-06</th>\n      <td>-0.070842</td>\n      <td>0.035917</td>\n      <td>0.045500</td>\n      <td>0.918583</td>\n      <td>39.0000</td>\n      <td>38.7000</td>\n      <td>38.8200</td>\n      <td>10206988.0</td>\n    </tr>\n    <tr>\n      <th>2020-04-14</th>\n      <td>-0.089310</td>\n      <td>0.037100</td>\n      <td>0.066100</td>\n      <td>0.896800</td>\n      <td>36.6300</td>\n      <td>35.3350</td>\n      <td>35.9300</td>\n      <td>33641572.0</td>\n    </tr>\n    <tr>\n      <th>2020-07-01</th>\n      <td>0.237445</td>\n      <td>0.099850</td>\n      <td>0.023600</td>\n      <td>0.876550</td>\n      <td>34.5400</td>\n      <td>33.7200</td>\n      <td>34.5400</td>\n      <td>61063678.0</td>\n    </tr>\n    <tr>\n      <th>2020-08-03</th>\n      <td>0.037380</td>\n      <td>0.072600</td>\n      <td>0.056600</td>\n      <td>0.870800</td>\n      <td>38.6600</td>\n      <td>38.2400</td>\n      <td>38.6100</td>\n      <td>27225104.0</td>\n    </tr>\n    <tr>\n      <th>2020-09-22</th>\n      <td>0.357878</td>\n      <td>0.146889</td>\n      <td>0.027889</td>\n      <td>0.825222</td>\n      <td>36.3300</td>\n      <td>35.7400</td>\n      <td>35.8100</td>\n      <td>19031807.0</td>\n    </tr>\n    <tr>\n      <th>2020-09-24</th>\n      <td>0.156400</td>\n      <td>0.090000</td>\n      <td>0.038818</td>\n      <td>0.871182</td>\n      <td>36.0400</td>\n      <td>35.5400</td>\n      <td>35.9500</td>\n      <td>17826964.0</td>\n    </tr>\n    <tr>\n      <th>2020-02-10</th>\n      <td>0.148925</td>\n      <td>0.053500</td>\n      <td>0.010625</td>\n      <td>0.935875</td>\n      <td>38.2200</td>\n      <td>37.7200</td>\n      <td>38.2100</td>\n      <td>14166100.0</td>\n    </tr>\n    <tr>\n      <th>2020-07-17</th>\n      <td>0.165900</td>\n      <td>0.143000</td>\n      <td>0.062500</td>\n      <td>0.794500</td>\n      <td>36.3300</td>\n      <td>35.7250</td>\n      <td>35.8600</td>\n      <td>20611879.0</td>\n    </tr>\n    <tr>\n      <th>2020-03-23</th>\n      <td>0.116429</td>\n      <td>0.063429</td>\n      <td>0.022857</td>\n      <td>0.913714</td>\n      <td>29.5800</td>\n      <td>27.8800</td>\n      <td>28.7600</td>\n      <td>84903734.0</td>\n    </tr>\n    <tr>\n      <th>2020-06-26</th>\n      <td>0.245322</td>\n      <td>0.093556</td>\n      <td>0.031111</td>\n      <td>0.875333</td>\n      <td>32.2800</td>\n      <td>31.6100</td>\n      <td>32.2500</td>\n      <td>27065445.0</td>\n    </tr>\n    <tr>\n      <th>2020-02-06</th>\n      <td>0.120753</td>\n      <td>0.068895</td>\n      <td>0.029737</td>\n      <td>0.901474</td>\n      <td>38.5000</td>\n      <td>38.0300</td>\n      <td>38.4400</td>\n      <td>17122070.0</td>\n    </tr>\n    <tr>\n      <th>2020-02-03</th>\n      <td>0.121809</td>\n      <td>0.059091</td>\n      <td>0.027273</td>\n      <td>0.913636</td>\n      <td>38.0351</td>\n      <td>37.3000</td>\n      <td>37.4600</td>\n      <td>16592344.0</td>\n    </tr>\n    <tr>\n      <th>2020-05-04</th>\n      <td>0.217018</td>\n      <td>0.081182</td>\n      <td>0.013909</td>\n      <td>0.904909</td>\n      <td>37.9200</td>\n      <td>37.4100</td>\n      <td>37.6000</td>\n      <td>31634085.0</td>\n    </tr>\n    <tr>\n      <th>2020-05-11</th>\n      <td>-0.013333</td>\n      <td>0.043667</td>\n      <td>0.042889</td>\n      <td>0.913444</td>\n      <td>38.2100</td>\n      <td>37.1600</td>\n      <td>37.2500</td>\n      <td>33280155.0</td>\n    </tr>\n    <tr>\n      <th>2020-02-07</th>\n      <td>0.080233</td>\n      <td>0.070750</td>\n      <td>0.045250</td>\n      <td>0.884000</td>\n      <td>38.4000</td>\n      <td>37.9300</td>\n      <td>38.3600</td>\n      <td>17385105.0</td>\n    </tr>\n    <tr>\n      <th>2020-04-23</th>\n      <td>0.170750</td>\n      <td>0.070000</td>\n      <td>0.027571</td>\n      <td>0.902429</td>\n      <td>37.4000</td>\n      <td>36.2800</td>\n      <td>36.2800</td>\n      <td>33193184.0</td>\n    </tr>\n    <tr>\n      <th>2020-03-03</th>\n      <td>0.304011</td>\n      <td>0.086000</td>\n      <td>0.007000</td>\n      <td>0.906889</td>\n      <td>35.7800</td>\n      <td>33.8600</td>\n      <td>35.1800</td>\n      <td>36634538.0</td>\n    </tr>\n    <tr>\n      <th>2020-10-14</th>\n      <td>0.128600</td>\n      <td>0.043286</td>\n      <td>0.000000</td>\n      <td>0.956714</td>\n      <td>37.3000</td>\n      <td>36.5700</td>\n      <td>37.0100</td>\n      <td>34768040.0</td>\n    </tr>\n    <tr>\n      <th>2020-07-21</th>\n      <td>0.159100</td>\n      <td>0.039000</td>\n      <td>0.000000</td>\n      <td>0.961000</td>\n      <td>37.0792</td>\n      <td>36.5200</td>\n      <td>36.9400</td>\n      <td>20517313.0</td>\n    </tr>\n    <tr>\n      <th>2020-10-16</th>\n      <td>0.206800</td>\n      <td>0.072000</td>\n      <td>0.013500</td>\n      <td>0.914333</td>\n      <td>38.1200</td>\n      <td>37.0200</td>\n      <td>37.0700</td>\n      <td>73118411.0</td>\n    </tr>\n    <tr>\n      <th>2020-12-18</th>\n      <td>0.099274</td>\n      <td>0.047143</td>\n      <td>0.021486</td>\n      <td>0.931429</td>\n      <td>38.0900</td>\n      <td>37.5000</td>\n      <td>37.9900</td>\n      <td>41535254.0</td>\n    </tr>\n    <tr>\n      <th>2020-02-24</th>\n      <td>0.168586</td>\n      <td>0.056857</td>\n      <td>0.007357</td>\n      <td>0.935786</td>\n      <td>35.3950</td>\n      <td>34.6000</td>\n      <td>35.0400</td>\n      <td>27975406.0</td>\n    </tr>\n    <tr>\n      <th>2020-02-28</th>\n      <td>0.220362</td>\n      <td>0.080000</td>\n      <td>0.016750</td>\n      <td>0.903375</td>\n      <td>33.9400</td>\n      <td>32.5300</td>\n      <td>33.4900</td>\n      <td>51304222.0</td>\n    </tr>\n    <tr>\n      <th>2020-09-21</th>\n      <td>0.026040</td>\n      <td>0.086200</td>\n      <td>0.072000</td>\n      <td>0.841800</td>\n      <td>36.4800</td>\n      <td>35.3750</td>\n      <td>36.3700</td>\n      <td>21347832.0</td>\n    </tr>\n    <tr>\n      <th>2020-09-02</th>\n      <td>0.082140</td>\n      <td>0.076000</td>\n      <td>0.028800</td>\n      <td>0.895200</td>\n      <td>37.3000</td>\n      <td>36.4000</td>\n      <td>36.7699</td>\n      <td>46395828.0</td>\n    </tr>\n    <tr>\n      <th>2020-04-21</th>\n      <td>0.058478</td>\n      <td>0.092778</td>\n      <td>0.058000</td>\n      <td>0.849222</td>\n      <td>35.9300</td>\n      <td>35.3700</td>\n      <td>35.7800</td>\n      <td>40218480.0</td>\n    </tr>\n    <tr>\n      <th>2020-01-27</th>\n      <td>-0.011562</td>\n      <td>0.022750</td>\n      <td>0.022500</td>\n      <td>0.954750</td>\n      <td>40.4300</td>\n      <td>39.2500</td>\n      <td>39.4100</td>\n      <td>24183359.0</td>\n    </tr>\n    <tr>\n      <th>2020-01-15</th>\n      <td>0.421836</td>\n      <td>0.135500</td>\n      <td>0.005214</td>\n      <td>0.859286</td>\n      <td>40.8700</td>\n      <td>40.1700</td>\n      <td>40.1900</td>\n      <td>18559687.0</td>\n    </tr>\n    <tr>\n      <th>2020-12-31</th>\n      <td>0.131700</td>\n      <td>0.088600</td>\n      <td>0.057333</td>\n      <td>0.854000</td>\n      <td>36.9200</td>\n      <td>36.2900</td>\n      <td>36.6600</td>\n      <td>26449409.0</td>\n    </tr>\n    <tr>\n      <th>2020-05-26</th>\n      <td>0.153262</td>\n      <td>0.082000</td>\n      <td>0.027875</td>\n      <td>0.890125</td>\n      <td>37.8700</td>\n      <td>37.4500</td>\n      <td>37.6500</td>\n      <td>36564836.0</td>\n    </tr>\n    <tr>\n      <th>2020-01-22</th>\n      <td>0.274200</td>\n      <td>0.109000</td>\n      <td>0.027500</td>\n      <td>0.863667</td>\n      <td>40.4100</td>\n      <td>39.9700</td>\n      <td>40.3200</td>\n      <td>28521444.0</td>\n    </tr>\n    <tr>\n      <th>2020-05-12</th>\n      <td>0.068506</td>\n      <td>0.057312</td>\n      <td>0.039563</td>\n      <td>0.903125</td>\n      <td>38.2400</td>\n      <td>37.3600</td>\n      <td>38.1200</td>\n      <td>28575545.0</td>\n    </tr>\n    <tr>\n      <th>2020-12-29</th>\n      <td>0.300025</td>\n      <td>0.096250</td>\n      <td>0.000000</td>\n      <td>0.903750</td>\n      <td>37.2000</td>\n      <td>36.7900</td>\n      <td>36.9000</td>\n      <td>21158263.0</td>\n    </tr>\n    <tr>\n      <th>2020-10-01</th>\n      <td>-0.341300</td>\n      <td>0.000000</td>\n      <td>0.108750</td>\n      <td>0.891250</td>\n      <td>37.0900</td>\n      <td>36.1628</td>\n      <td>36.9100</td>\n      <td>35619937.0</td>\n    </tr>\n    <tr>\n      <th>2020-09-04</th>\n      <td>0.149957</td>\n      <td>0.066571</td>\n      <td>0.011714</td>\n      <td>0.921714</td>\n      <td>36.6300</td>\n      <td>35.8700</td>\n      <td>36.4900</td>\n      <td>42774557.0</td>\n    </tr>\n    <tr>\n      <th>2020-08-06</th>\n      <td>0.157150</td>\n      <td>0.085300</td>\n      <td>0.047400</td>\n      <td>0.867200</td>\n      <td>39.1000</td>\n      <td>38.1510</td>\n      <td>38.7700</td>\n      <td>36220406.0</td>\n    </tr>\n    <tr>\n      <th>2020-09-18</th>\n      <td>0.041664</td>\n      <td>0.086273</td>\n      <td>0.068182</td>\n      <td>0.845545</td>\n      <td>37.0700</td>\n      <td>36.5700</td>\n      <td>36.7800</td>\n      <td>21418786.0</td>\n    </tr>\n    <tr>\n      <th>2020-10-29</th>\n      <td>0.034233</td>\n      <td>0.017667</td>\n      <td>0.000000</td>\n      <td>0.982333</td>\n      <td>35.6400</td>\n      <td>34.6000</td>\n      <td>35.4800</td>\n      <td>45430653.0</td>\n    </tr>\n    <tr>\n      <th>2020-04-20</th>\n      <td>0.131630</td>\n      <td>0.046100</td>\n      <td>0.007800</td>\n      <td>0.946000</td>\n      <td>36.9100</td>\n      <td>36.0800</td>\n      <td>36.3800</td>\n      <td>33160628.0</td>\n    </tr>\n    <tr>\n      <th>2020-06-16</th>\n      <td>0.119000</td>\n      <td>0.053250</td>\n      <td>0.029917</td>\n      <td>0.916833</td>\n      <td>33.9600</td>\n      <td>32.7200</td>\n      <td>33.5900</td>\n      <td>98892754.0</td>\n    </tr>\n    <tr>\n      <th>2020-07-24</th>\n      <td>0.074056</td>\n      <td>0.050667</td>\n      <td>0.036111</td>\n      <td>0.913222</td>\n      <td>38.1500</td>\n      <td>37.3250</td>\n      <td>38.0300</td>\n      <td>27487083.0</td>\n    </tr>\n  </tbody>\n</table>\n</div>"
     },
     "metadata": {},
     "execution_count": 23
    }
   ],
   "source": [
    "x_test"
   ]
  },
  {
   "cell_type": "code",
   "execution_count": null,
   "metadata": {},
   "outputs": [],
   "source": []
  }
 ]
}