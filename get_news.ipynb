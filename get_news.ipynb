{
 "metadata": {
  "language_info": {
   "codemirror_mode": {
    "name": "ipython",
    "version": 3
   },
   "file_extension": ".py",
   "mimetype": "text/x-python",
   "name": "python",
   "nbconvert_exporter": "python",
   "pygments_lexer": "ipython3",
   "version": "3.8.7-final"
  },
  "orig_nbformat": 2,
  "kernelspec": {
   "name": "python3",
   "display_name": "Python 3.8.7 64-bit",
   "metadata": {
    "interpreter": {
     "hash": "51efb05b32696ea3d9b62cd75f7474dcc3f52e5d60d10b2bdeb29ecc6123ddd4"
    }
   }
  }
 },
 "nbformat": 4,
 "nbformat_minor": 2,
 "cells": [
  {
   "cell_type": "code",
   "execution_count": 31,
   "metadata": {},
   "outputs": [],
   "source": [
    "import os\n",
    "import nltk\n",
    "import pandas as pd\n",
    "from dotenv import load_dotenv\n",
    "from nltk.sentiment.vader import SentimentIntensityAnalyzer\n",
    "analyzer = SentimentIntensityAnalyzer()\n",
    "from dotenv import load_dotenv\n",
    "import hvplot.pandas\n",
    "import requests\n",
    "\n",
    "%matplotlib inline"
   ]
  },
  {
   "cell_type": "code",
   "execution_count": 32,
   "metadata": {},
   "outputs": [],
   "source": [
    "load_dotenv(dotenv_path=\"example.env\")\n",
    "api_key = os.getenv(\"news_api\")"
   ]
  },
  {
   "cell_type": "code",
   "execution_count": 33,
   "metadata": {},
   "outputs": [],
   "source": [
    "#newsapi = NewsApiClient(api_key=api_key)"
   ]
  },
  {
   "cell_type": "code",
   "execution_count": 34,
   "metadata": {},
   "outputs": [
    {
     "output_type": "error",
     "ename": "NameError",
     "evalue": "name 'newsapi' is not defined",
     "traceback": [
      "\u001b[1;31m---------------------------------------------------------------------------\u001b[0m",
      "\u001b[1;31mNameError\u001b[0m                                 Traceback (most recent call last)",
      "\u001b[1;32m<ipython-input-34-78e0d257f9fa>\u001b[0m in \u001b[0;36m<module>\u001b[1;34m\u001b[0m\n\u001b[1;32m----> 1\u001b[1;33m \u001b[0mcompany_news\u001b[0m \u001b[1;33m=\u001b[0m \u001b[0mnewsapi\u001b[0m\u001b[1;33m.\u001b[0m\u001b[0mget_everything\u001b[0m\u001b[1;33m(\u001b[0m\u001b[0mq\u001b[0m\u001b[1;33m=\u001b[0m\u001b[1;34m\"pfizer\"\u001b[0m\u001b[1;33m,\u001b[0m \u001b[0mlanguage\u001b[0m\u001b[1;33m=\u001b[0m\u001b[1;34m\"en\"\u001b[0m\u001b[1;33m)\u001b[0m\u001b[1;33m\u001b[0m\u001b[1;33m\u001b[0m\u001b[0m\n\u001b[0m\u001b[0;32m      2\u001b[0m \u001b[0mcompany_news\u001b[0m\u001b[1;33m[\u001b[0m\u001b[1;34m\"totalResults\"\u001b[0m\u001b[1;33m]\u001b[0m\u001b[1;33m\u001b[0m\u001b[1;33m\u001b[0m\u001b[0m\n\u001b[0;32m      3\u001b[0m \u001b[0mcompany_df\u001b[0m \u001b[1;33m=\u001b[0m \u001b[0mpd\u001b[0m\u001b[1;33m.\u001b[0m\u001b[0mDataFrame\u001b[0m\u001b[1;33m.\u001b[0m\u001b[0mfrom_dict\u001b[0m\u001b[1;33m(\u001b[0m\u001b[0mcompany_news\u001b[0m\u001b[1;33m[\u001b[0m\u001b[1;34m\"articles\"\u001b[0m\u001b[1;33m]\u001b[0m\u001b[1;33m)\u001b[0m\u001b[1;33m\u001b[0m\u001b[1;33m\u001b[0m\u001b[0m\n\u001b[0;32m      4\u001b[0m \u001b[0mcompany_df\u001b[0m\u001b[1;33m.\u001b[0m\u001b[0mhead\u001b[0m\u001b[1;33m(\u001b[0m\u001b[1;33m)\u001b[0m\u001b[1;33m\u001b[0m\u001b[1;33m\u001b[0m\u001b[0m\n",
      "\u001b[1;31mNameError\u001b[0m: name 'newsapi' is not defined"
     ]
    }
   ],
   "source": [
    "    company_news = newsapi.get_everything(q=\"pfizer\", language=\"en\")\n",
    "    company_news[\"totalResults\"]\n",
    "    company_df = pd.DataFrame.from_dict(company_news[\"articles\"])\n",
    "    company_df.head()"
   ]
  },
  {
   "cell_type": "code",
   "execution_count": 38,
   "metadata": {},
   "outputs": [],
   "source": [
    "def get_news(company):\n",
    "    news_key = \"ad9b31ff022242e9932a6a643dd3897b\"\n",
    "    from_date = \"2021-01-10\"\n",
    "    company_news = requests.get(\n",
    "        f\"http://newsapi.org/v2/everything?q={company}&from={from_date}&to={from_date}&sortBy=publishedAt&apiKey={news_key}\").json()\n",
    "    company_news = pd.DataFrame(data=company_news)\n",
    "    company_sentiments = []\n",
    "    for article in company_news[\"articles\"]:\n",
    "        try:\n",
    "            text = article[\"content\"]\n",
    "            date = article[\"publishedAt\"][:10]\n",
    "            sentiment = analyzer.polarity_scores(text)\n",
    "            compound = sentiment[\"compound\"]\n",
    "            pos = sentiment[\"pos\"]\n",
    "            neu = sentiment[\"neu\"]\n",
    "            neg = sentiment[\"neg\"]\n",
    "            \n",
    "            company_sentiments.append({\n",
    "                \"text\": text,\n",
    "                \"date\": date,\n",
    "                \"compound\": compound,\n",
    "                \"positive\": pos,\n",
    "                \"negative\": neg,\n",
    "                \"neutral\": neu\n",
    "                \n",
    "            })\n",
    "            \n",
    "        except AttributeError:\n",
    "            pass\n",
    "        \n",
    "    # Create DataFrame\n",
    "    company_df = pd.DataFrame(company_sentiments)\n",
    "\n",
    "    # Reorder DataFrame columns\n",
    "    cols = [\"date\", \"text\", \"compound\", \"positive\", \"negative\", \"neutral\"]\n",
    "    company_df = company_df[cols]\n",
    "    company_df.sort_values(by=['date'], ascending=False, inplace=True)\n",
    "    company_df.reset_index(inplace=True, drop=True)\n",
    "    company_df = company_df.drop([\"text\"], axis=1)\n",
    "    company_df = company_df.set_index('date')\n",
    "    \n",
    "    return company_df"
   ]
  },
  {
   "cell_type": "code",
   "execution_count": 39,
   "metadata": {},
   "outputs": [
    {
     "output_type": "execute_result",
     "data": {
      "text/plain": [
       "            compound  positive  negative  neutral\n",
       "date                                             \n",
       "2021-01-09   -0.2960     0.000     0.062    0.937\n",
       "2021-01-09   -0.2960     0.000     0.061    0.939\n",
       "2021-01-09    0.5106     0.093     0.000    0.907\n",
       "2021-01-09    0.2023     0.052     0.000    0.948\n",
       "2021-01-09   -0.5945     0.000     0.111    0.889\n",
       "2021-01-09    0.0000     0.000     0.000    1.000\n",
       "2021-01-09    0.0000     0.000     0.000    1.000\n",
       "2021-01-09    0.0000     0.000     0.000    1.000\n",
       "2021-01-09   -0.5574     0.000     0.093    0.907\n",
       "2021-01-09   -0.2960     0.000     0.064    0.936\n",
       "2021-01-09    0.6124     0.143     0.000    0.857\n",
       "2021-01-09    0.0000     0.000     0.000    1.000\n",
       "2021-01-09    0.0000     0.000     0.000    1.000\n",
       "2021-01-09    0.0000     0.000     0.000    1.000\n",
       "2021-01-09   -0.7257     0.000     0.148    0.852\n",
       "2021-01-09    0.0000     0.000     0.000    1.000\n",
       "2021-01-09   -0.2960     0.000     0.061    0.939\n",
       "2021-01-09    0.3400     0.064     0.000    0.936\n",
       "2021-01-09    0.0000     0.000     0.000    1.000"
      ],
      "text/html": "<div>\n<style scoped>\n    .dataframe tbody tr th:only-of-type {\n        vertical-align: middle;\n    }\n\n    .dataframe tbody tr th {\n        vertical-align: top;\n    }\n\n    .dataframe thead th {\n        text-align: right;\n    }\n</style>\n<table border=\"1\" class=\"dataframe\">\n  <thead>\n    <tr style=\"text-align: right;\">\n      <th></th>\n      <th>compound</th>\n      <th>positive</th>\n      <th>negative</th>\n      <th>neutral</th>\n    </tr>\n    <tr>\n      <th>date</th>\n      <th></th>\n      <th></th>\n      <th></th>\n      <th></th>\n    </tr>\n  </thead>\n  <tbody>\n    <tr>\n      <th>2021-01-09</th>\n      <td>-0.2960</td>\n      <td>0.000</td>\n      <td>0.062</td>\n      <td>0.937</td>\n    </tr>\n    <tr>\n      <th>2021-01-09</th>\n      <td>-0.2960</td>\n      <td>0.000</td>\n      <td>0.061</td>\n      <td>0.939</td>\n    </tr>\n    <tr>\n      <th>2021-01-09</th>\n      <td>0.5106</td>\n      <td>0.093</td>\n      <td>0.000</td>\n      <td>0.907</td>\n    </tr>\n    <tr>\n      <th>2021-01-09</th>\n      <td>0.2023</td>\n      <td>0.052</td>\n      <td>0.000</td>\n      <td>0.948</td>\n    </tr>\n    <tr>\n      <th>2021-01-09</th>\n      <td>-0.5945</td>\n      <td>0.000</td>\n      <td>0.111</td>\n      <td>0.889</td>\n    </tr>\n    <tr>\n      <th>2021-01-09</th>\n      <td>0.0000</td>\n      <td>0.000</td>\n      <td>0.000</td>\n      <td>1.000</td>\n    </tr>\n    <tr>\n      <th>2021-01-09</th>\n      <td>0.0000</td>\n      <td>0.000</td>\n      <td>0.000</td>\n      <td>1.000</td>\n    </tr>\n    <tr>\n      <th>2021-01-09</th>\n      <td>0.0000</td>\n      <td>0.000</td>\n      <td>0.000</td>\n      <td>1.000</td>\n    </tr>\n    <tr>\n      <th>2021-01-09</th>\n      <td>-0.5574</td>\n      <td>0.000</td>\n      <td>0.093</td>\n      <td>0.907</td>\n    </tr>\n    <tr>\n      <th>2021-01-09</th>\n      <td>-0.2960</td>\n      <td>0.000</td>\n      <td>0.064</td>\n      <td>0.936</td>\n    </tr>\n    <tr>\n      <th>2021-01-09</th>\n      <td>0.6124</td>\n      <td>0.143</td>\n      <td>0.000</td>\n      <td>0.857</td>\n    </tr>\n    <tr>\n      <th>2021-01-09</th>\n      <td>0.0000</td>\n      <td>0.000</td>\n      <td>0.000</td>\n      <td>1.000</td>\n    </tr>\n    <tr>\n      <th>2021-01-09</th>\n      <td>0.0000</td>\n      <td>0.000</td>\n      <td>0.000</td>\n      <td>1.000</td>\n    </tr>\n    <tr>\n      <th>2021-01-09</th>\n      <td>0.0000</td>\n      <td>0.000</td>\n      <td>0.000</td>\n      <td>1.000</td>\n    </tr>\n    <tr>\n      <th>2021-01-09</th>\n      <td>-0.7257</td>\n      <td>0.000</td>\n      <td>0.148</td>\n      <td>0.852</td>\n    </tr>\n    <tr>\n      <th>2021-01-09</th>\n      <td>0.0000</td>\n      <td>0.000</td>\n      <td>0.000</td>\n      <td>1.000</td>\n    </tr>\n    <tr>\n      <th>2021-01-09</th>\n      <td>-0.2960</td>\n      <td>0.000</td>\n      <td>0.061</td>\n      <td>0.939</td>\n    </tr>\n    <tr>\n      <th>2021-01-09</th>\n      <td>0.3400</td>\n      <td>0.064</td>\n      <td>0.000</td>\n      <td>0.936</td>\n    </tr>\n    <tr>\n      <th>2021-01-09</th>\n      <td>0.0000</td>\n      <td>0.000</td>\n      <td>0.000</td>\n      <td>1.000</td>\n    </tr>\n  </tbody>\n</table>\n</div>"
     },
     "metadata": {},
     "execution_count": 39
    }
   ],
   "source": [
    "# companies = [\"pfizer\"]\n",
    "\n",
    "# for company in companies:\n",
    "#     print(company)\n",
    "#     print(get_news(company))\n",
    "\n",
    "news = get_news(\"moderna\")\n",
    "news"
   ]
  },
  {
   "cell_type": "code",
   "execution_count": 3,
   "metadata": {},
   "outputs": [
    {
     "output_type": "stream",
     "name": "stdout",
     "text": [
      "Collecting alpaca-trade-api\n",
      "  Downloading alpaca_trade_api-0.51.0-py3-none-any.whl (39 kB)\n",
      "Requirement already satisfied: pandas in c:\\users\\will\\appdata\\local\\programs\\python\\python38\\lib\\site-packages (from alpaca-trade-api) (1.2.0)\n",
      "Collecting urllib3<1.26,>1.24\n",
      "  Downloading urllib3-1.25.11-py2.py3-none-any.whl (127 kB)\n",
      "Collecting websocket-client<1,>=0.56.0\n",
      "  Downloading websocket_client-0.57.0-py2.py3-none-any.whl (200 kB)WARNING: You are using pip version 20.2.3; however, version 20.3.3 is available.\n",
      "You should consider upgrading via the 'c:\\users\\will\\appdata\\local\\programs\\python\\python38\\python.exe -m pip install --upgrade pip' command.\n",
      "\n",
      "Requirement already satisfied: requests<3,>2 in c:\\users\\will\\appdata\\local\\programs\\python\\python38\\lib\\site-packages (from alpaca-trade-api) (2.25.1)\n",
      "Collecting websockets<9,>=8.0\n",
      "  Downloading websockets-8.1-cp38-cp38-win_amd64.whl (66 kB)\n",
      "Requirement already satisfied: numpy>=1.16.5 in c:\\users\\will\\appdata\\local\\programs\\python\\python38\\lib\\site-packages (from pandas->alpaca-trade-api) (1.19.4)\n",
      "Requirement already satisfied: python-dateutil>=2.7.3 in c:\\users\\will\\appdata\\roaming\\python\\python38\\site-packages (from pandas->alpaca-trade-api) (2.8.1)\n",
      "Requirement already satisfied: pytz>=2017.3 in c:\\users\\will\\appdata\\local\\programs\\python\\python38\\lib\\site-packages (from pandas->alpaca-trade-api) (2020.5)\n",
      "Requirement already satisfied: six in c:\\users\\will\\appdata\\local\\programs\\python\\python38\\lib\\site-packages (from websocket-client<1,>=0.56.0->alpaca-trade-api) (1.15.0)\n",
      "Requirement already satisfied: certifi>=2017.4.17 in c:\\users\\will\\appdata\\local\\programs\\python\\python38\\lib\\site-packages (from requests<3,>2->alpaca-trade-api) (2020.12.5)\n",
      "Requirement already satisfied: idna<3,>=2.5 in c:\\users\\will\\appdata\\local\\programs\\python\\python38\\lib\\site-packages (from requests<3,>2->alpaca-trade-api) (2.10)\n",
      "Requirement already satisfied: chardet<5,>=3.0.2 in c:\\users\\will\\appdata\\local\\programs\\python\\python38\\lib\\site-packages (from requests<3,>2->alpaca-trade-api) (4.0.0)\n",
      "Installing collected packages: urllib3, websocket-client, websockets, alpaca-trade-api\n",
      "  Attempting uninstall: urllib3\n",
      "    Found existing installation: urllib3 1.26.2\n",
      "    Uninstalling urllib3-1.26.2:\n",
      "      Successfully uninstalled urllib3-1.26.2\n",
      "Successfully installed alpaca-trade-api-0.51.0 urllib3-1.25.11 websocket-client-0.57.0 websockets-8.1\n"
     ]
    }
   ],
   "source": []
  },
  {
   "cell_type": "code",
   "execution_count": 4,
   "metadata": {},
   "outputs": [
    {
     "output_type": "stream",
     "name": "stderr",
     "text": [
      "WARNING: You are using pip version 20.2.3; however, version 20.3.3 is available.\n",
      "You should consider upgrading via the 'c:\\users\\will\\appdata\\local\\programs\\python\\python38\\python.exe -m pip install --upgrade pip' command.\n",
      "Collecting newsapi\n",
      "  Downloading newsapi-0.1.1-py2.py3-none-any.whl (4.1 kB)\n",
      "Requirement already satisfied: requests in c:\\users\\will\\appdata\\local\\programs\\python\\python38\\lib\\site-packages (from newsapi) (2.25.1)\n",
      "Requirement already satisfied: idna<3,>=2.5 in c:\\users\\will\\appdata\\local\\programs\\python\\python38\\lib\\site-packages (from requests->newsapi) (2.10)\n",
      "Requirement already satisfied: urllib3<1.27,>=1.21.1 in c:\\users\\will\\appdata\\local\\programs\\python\\python38\\lib\\site-packages (from requests->newsapi) (1.25.11)\n",
      "Requirement already satisfied: certifi>=2017.4.17 in c:\\users\\will\\appdata\\local\\programs\\python\\python38\\lib\\site-packages (from requests->newsapi) (2020.12.5)\n",
      "Requirement already satisfied: chardet<5,>=3.0.2 in c:\\users\\will\\appdata\\local\\programs\\python\\python38\\lib\\site-packages (from requests->newsapi) (4.0.0)\n",
      "Installing collected packages: newsapi\n",
      "Successfully installed newsapi-0.1.1\n"
     ]
    }
   ],
   "source": [
    "!pip install newsapi"
   ]
  },
  {
   "cell_type": "code",
   "execution_count": null,
   "metadata": {},
   "outputs": [],
   "source": []
  }
 ]
}