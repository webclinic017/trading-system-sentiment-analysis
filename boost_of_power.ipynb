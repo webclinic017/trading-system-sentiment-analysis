{
 "cells": [
  {
   "cell_type": "markdown",
   "metadata": {},
   "source": [
    " # Boost of Power"
   ]
  },
  {
   "cell_type": "markdown",
   "metadata": {},
   "source": [
    " Add some power to your fraud detection algorithm by using a GradientTreeClassifier to leverage ensemble learning."
   ]
  },
  {
   "cell_type": "code",
   "execution_count": 4,
   "metadata": {},
   "outputs": [
    {
     "output_type": "stream",
     "name": "stdout",
     "text": [
      "Requirement already satisfied: pydotplus in c:\\users\\will\\appdata\\local\\programs\\python\\python38\\lib\\site-packages (2.0.2)\n",
      "Requirement already satisfied: pyparsing>=2.0.1 in c:\\users\\will\\appdata\\local\\programs\\python\\python38\\lib\\site-packages (from pydotplus) (2.4.7)\n",
      "WARNING: You are using pip version 20.2.3; however, version 20.3.3 is available.\n",
      "You should consider upgrading via the 'c:\\users\\will\\appdata\\local\\programs\\python\\python38\\python.exe -m pip install --upgrade pip' command.\n"
     ]
    }
   ],
   "source": [
    "!pip install pydotplus"
   ]
  },
  {
   "cell_type": "code",
   "execution_count": 5,
   "metadata": {},
   "outputs": [],
   "source": [
    "# Y is c column\n",
    "# drop it\n",
    "\n",
    "\n",
    "# Initial imports\n",
    "import pandas as pd\n",
    "from pathlib import Path\n",
    "from sklearn import tree\n",
    "from sklearn.preprocessing import StandardScaler\n",
    "from sklearn.model_selection import train_test_split\n",
    "from sklearn.metrics import confusion_matrix\n",
    "from sklearn.metrics import accuracy_score\n",
    "from sklearn.metrics import classification_report\n",
    "from sklearn.ensemble import GradientBoostingClassifier\n",
    "\n",
    "# Needed for decision tree visualization\n",
    "import pydotplus\n",
    "from IPython.display import Image"
   ]
  },
  {
   "cell_type": "markdown",
   "metadata": {},
   "source": [
    " ### Preprocessing"
   ]
  },
  {
   "cell_type": "code",
   "execution_count": 7,
   "metadata": {},
   "outputs": [
    {
     "output_type": "execute_result",
     "data": {
      "text/plain": [
       "   compound  positive  negative   neutral    c      h      l      o  \\\n",
       "0 -0.023820  0.049600  0.056400  0.894000  0.0  39.24  38.67  38.72   \n",
       "1 -0.070842  0.035917  0.045500  0.918583  0.0  39.00  38.70  38.82   \n",
       "2  0.086780  0.038700  0.009400  0.951900  0.0  39.13  38.68  39.12   \n",
       "3  0.135414  0.052714  0.011000  0.936286  1.0  39.22  38.75  38.76   \n",
       "4 -0.108008  0.025917  0.057417  0.916917  0.0  39.27  38.79  39.27   \n",
       "\n",
       "            v  \n",
       "0  11193319.0  \n",
       "1  10206988.0  \n",
       "2  14328671.0  \n",
       "3  12580358.0  \n",
       "4  15754368.0  "
      ],
      "text/html": "<div>\n<style scoped>\n    .dataframe tbody tr th:only-of-type {\n        vertical-align: middle;\n    }\n\n    .dataframe tbody tr th {\n        vertical-align: top;\n    }\n\n    .dataframe thead th {\n        text-align: right;\n    }\n</style>\n<table border=\"1\" class=\"dataframe\">\n  <thead>\n    <tr style=\"text-align: right;\">\n      <th></th>\n      <th>compound</th>\n      <th>positive</th>\n      <th>negative</th>\n      <th>neutral</th>\n      <th>c</th>\n      <th>h</th>\n      <th>l</th>\n      <th>o</th>\n      <th>v</th>\n    </tr>\n  </thead>\n  <tbody>\n    <tr>\n      <th>0</th>\n      <td>-0.023820</td>\n      <td>0.049600</td>\n      <td>0.056400</td>\n      <td>0.894000</td>\n      <td>0.0</td>\n      <td>39.24</td>\n      <td>38.67</td>\n      <td>38.72</td>\n      <td>11193319.0</td>\n    </tr>\n    <tr>\n      <th>1</th>\n      <td>-0.070842</td>\n      <td>0.035917</td>\n      <td>0.045500</td>\n      <td>0.918583</td>\n      <td>0.0</td>\n      <td>39.00</td>\n      <td>38.70</td>\n      <td>38.82</td>\n      <td>10206988.0</td>\n    </tr>\n    <tr>\n      <th>2</th>\n      <td>0.086780</td>\n      <td>0.038700</td>\n      <td>0.009400</td>\n      <td>0.951900</td>\n      <td>0.0</td>\n      <td>39.13</td>\n      <td>38.68</td>\n      <td>39.12</td>\n      <td>14328671.0</td>\n    </tr>\n    <tr>\n      <th>3</th>\n      <td>0.135414</td>\n      <td>0.052714</td>\n      <td>0.011000</td>\n      <td>0.936286</td>\n      <td>1.0</td>\n      <td>39.22</td>\n      <td>38.75</td>\n      <td>38.76</td>\n      <td>12580358.0</td>\n    </tr>\n    <tr>\n      <th>4</th>\n      <td>-0.108008</td>\n      <td>0.025917</td>\n      <td>0.057417</td>\n      <td>0.916917</td>\n      <td>0.0</td>\n      <td>39.27</td>\n      <td>38.79</td>\n      <td>39.27</td>\n      <td>15754368.0</td>\n    </tr>\n  </tbody>\n</table>\n</div>"
     },
     "metadata": {},
     "execution_count": 7
    }
   ],
   "source": [
    "# Loading data\n",
    "file_path = \"data/pfizer_combined.csv\"\n",
    "df_loans = pd.read_csv(file_path)\n",
    "df_loans.head()"
   ]
  },
  {
   "cell_type": "code",
   "execution_count": 8,
   "metadata": {},
   "outputs": [
    {
     "output_type": "execute_result",
     "data": {
      "text/plain": [
       "   compound  positive  negative   neutral      h      l      o           v\n",
       "0 -0.023820  0.049600  0.056400  0.894000  39.24  38.67  38.72  11193319.0\n",
       "1 -0.070842  0.035917  0.045500  0.918583  39.00  38.70  38.82  10206988.0\n",
       "2  0.086780  0.038700  0.009400  0.951900  39.13  38.68  39.12  14328671.0\n",
       "3  0.135414  0.052714  0.011000  0.936286  39.22  38.75  38.76  12580358.0\n",
       "4 -0.108008  0.025917  0.057417  0.916917  39.27  38.79  39.27  15754368.0"
      ],
      "text/html": "<div>\n<style scoped>\n    .dataframe tbody tr th:only-of-type {\n        vertical-align: middle;\n    }\n\n    .dataframe tbody tr th {\n        vertical-align: top;\n    }\n\n    .dataframe thead th {\n        text-align: right;\n    }\n</style>\n<table border=\"1\" class=\"dataframe\">\n  <thead>\n    <tr style=\"text-align: right;\">\n      <th></th>\n      <th>compound</th>\n      <th>positive</th>\n      <th>negative</th>\n      <th>neutral</th>\n      <th>h</th>\n      <th>l</th>\n      <th>o</th>\n      <th>v</th>\n    </tr>\n  </thead>\n  <tbody>\n    <tr>\n      <th>0</th>\n      <td>-0.023820</td>\n      <td>0.049600</td>\n      <td>0.056400</td>\n      <td>0.894000</td>\n      <td>39.24</td>\n      <td>38.67</td>\n      <td>38.72</td>\n      <td>11193319.0</td>\n    </tr>\n    <tr>\n      <th>1</th>\n      <td>-0.070842</td>\n      <td>0.035917</td>\n      <td>0.045500</td>\n      <td>0.918583</td>\n      <td>39.00</td>\n      <td>38.70</td>\n      <td>38.82</td>\n      <td>10206988.0</td>\n    </tr>\n    <tr>\n      <th>2</th>\n      <td>0.086780</td>\n      <td>0.038700</td>\n      <td>0.009400</td>\n      <td>0.951900</td>\n      <td>39.13</td>\n      <td>38.68</td>\n      <td>39.12</td>\n      <td>14328671.0</td>\n    </tr>\n    <tr>\n      <th>3</th>\n      <td>0.135414</td>\n      <td>0.052714</td>\n      <td>0.011000</td>\n      <td>0.936286</td>\n      <td>39.22</td>\n      <td>38.75</td>\n      <td>38.76</td>\n      <td>12580358.0</td>\n    </tr>\n    <tr>\n      <th>4</th>\n      <td>-0.108008</td>\n      <td>0.025917</td>\n      <td>0.057417</td>\n      <td>0.916917</td>\n      <td>39.27</td>\n      <td>38.79</td>\n      <td>39.27</td>\n      <td>15754368.0</td>\n    </tr>\n  </tbody>\n</table>\n</div>"
     },
     "metadata": {},
     "execution_count": 8
    }
   ],
   "source": [
    "# Define features set\n",
    "X = df_loans.copy()\n",
    "X.drop(\"c\", axis=1, inplace=True)\n",
    "X.head()"
   ]
  },
  {
   "cell_type": "code",
   "execution_count": 9,
   "metadata": {},
   "outputs": [
    {
     "output_type": "execute_result",
     "data": {
      "text/plain": [
       "array([[0.],\n",
       "       [0.],\n",
       "       [0.],\n",
       "       [1.],\n",
       "       [0.]])"
      ]
     },
     "metadata": {},
     "execution_count": 9
    }
   ],
   "source": [
    "# Define target vector\n",
    "y = df_loans[\"c\"].values\n",
    "y[:5]"
   ]
  },
  {
   "cell_type": "code",
   "execution_count": 5,
   "metadata": {},
   "outputs": [],
   "source": [
    "# Splitting into Train and Test sets\n",
    "X_train, X_test, y_train, y_test = train_test_split(X, y, random_state=78)"
   ]
  },
  {
   "cell_type": "code",
   "execution_count": 6,
   "metadata": {},
   "outputs": [],
   "source": [
    "# Create the StandardScaler instance\n",
    "scaler = StandardScaler()"
   ]
  },
  {
   "cell_type": "code",
   "execution_count": 7,
   "metadata": {},
   "outputs": [],
   "source": [
    "# Fit the Standard Scaler with the training data\n",
    "X_scaler = scaler.fit(X_train)"
   ]
  },
  {
   "cell_type": "code",
   "execution_count": 8,
   "metadata": {},
   "outputs": [],
   "source": [
    "# Scale the training data\n",
    "X_train_scaled = X_scaler.transform(X_train)\n",
    "X_test_scaled = X_scaler.transform(X_test)"
   ]
  },
  {
   "cell_type": "markdown",
   "metadata": {},
   "source": [
    " ### Choose Optimal Learning Rate"
   ]
  },
  {
   "cell_type": "code",
   "execution_count": 9,
   "metadata": {},
   "outputs": [
    {
     "name": "stdout",
     "output_type": "stream",
     "text": [
      "Learning rate:  0.05\n",
      "Accuracy score (training): 0.683\n",
      "Accuracy score (validation): 0.657\n",
      "\n",
      "Learning rate:  0.1\n",
      "Accuracy score (training): 0.716\n",
      "Accuracy score (validation): 0.670\n",
      "\n",
      "Learning rate:  0.25\n",
      "Accuracy score (training): 0.856\n",
      "Accuracy score (validation): 0.764\n",
      "\n",
      "Learning rate:  0.5\n",
      "Accuracy score (training): 0.926\n",
      "Accuracy score (validation): 0.821\n",
      "\n",
      "Learning rate:  0.75\n",
      "Accuracy score (training): 0.928\n",
      "Accuracy score (validation): 0.819\n",
      "\n",
      "Learning rate:  1\n",
      "Accuracy score (training): 0.927\n",
      "Accuracy score (validation): 0.844\n",
      "\n"
     ]
    }
   ],
   "source": [
    "# Choose learning rate\n",
    "learning_rates = [0.05, 0.1, 0.25, 0.5, 0.75, 1]\n",
    "for learning_rate in learning_rates:\n",
    "    model = GradientBoostingClassifier(\n",
    "        n_estimators=100,\n",
    "        learning_rate=learning_rate,\n",
    "        max_features=2,\n",
    "        max_depth=3,\n",
    "        random_state=0)\n",
    "    model.fit(X_train_scaled,y_train.ravel())\n",
    "    print(\"Learning rate: \", learning_rate)\n",
    "\n",
    "    # Score the model\n",
    "    print(\"Accuracy score (training): {0:.3f}\".format(\n",
    "        model.score(\n",
    "            X_train_scaled,\n",
    "            y_train.ravel())))\n",
    "    print(\"Accuracy score (validation): {0:.3f}\".format(\n",
    "        model.score(\n",
    "            X_test_scaled,\n",
    "            y_test.ravel())))\n",
    "    print()"
   ]
  },
  {
   "cell_type": "markdown",
   "metadata": {},
   "source": [
    " ### Build Model with Optimal Learning Rate"
   ]
  },
  {
   "cell_type": "code",
   "execution_count": 10,
   "metadata": {},
   "outputs": [
    {
     "name": "stdout",
     "output_type": "stream",
     "text": [
      "Accuracy score (training): 1.000\n",
      "Accuracy score (validation): 0.848\n"
     ]
    }
   ],
   "source": [
    "# Create GradientBoostingClassifier model\n",
    "model = GradientBoostingClassifier(\n",
    "    n_estimators=500,\n",
    "    learning_rate=1,\n",
    "    max_features=5,\n",
    "    max_depth=3,\n",
    "    random_state=0)\n",
    "\n",
    "# Fit the model\n",
    "model.fit(X_train_scaled,y_train.ravel())\n",
    "\n",
    "# Score the model\n",
    "print(\"Accuracy score (training): {0:.3f}\".format(\n",
    "    model.score(\n",
    "        X_train_scaled,\n",
    "        y_train)))\n",
    "print(\"Accuracy score (validation): {0:.3f}\".format(\n",
    "    model.score(\n",
    "        X_test_scaled,\n",
    "        y_test)))"
   ]
  },
  {
   "cell_type": "code",
   "execution_count": 11,
   "metadata": {},
   "outputs": [
    {
     "data": {
      "text/plain": [
       "0.8476190476190476"
      ]
     },
     "execution_count": 11,
     "metadata": {},
     "output_type": "execute_result"
    }
   ],
   "source": [
    "# Make predictions\n",
    "predictions = model.predict(X_test_scaled)\n",
    "\n",
    "# Generate accuracy score for predictions using y_test\n",
    "accuracy_score(y_test, predictions)"
   ]
  },
  {
   "cell_type": "markdown",
   "metadata": {},
   "source": [
    " ### Model Evaluation"
   ]
  },
  {
   "cell_type": "code",
   "execution_count": 12,
   "metadata": {},
   "outputs": [
    {
     "data": {
      "text/html": [
       "<div>\n",
       "<style scoped>\n",
       "    .dataframe tbody tr th:only-of-type {\n",
       "        vertical-align: middle;\n",
       "    }\n",
       "\n",
       "    .dataframe tbody tr th {\n",
       "        vertical-align: top;\n",
       "    }\n",
       "\n",
       "    .dataframe thead th {\n",
       "        text-align: right;\n",
       "    }\n",
       "</style>\n",
       "<table border=\"1\" class=\"dataframe\">\n",
       "  <thead>\n",
       "    <tr style=\"text-align: right;\">\n",
       "      <th></th>\n",
       "      <th>Predicted 0</th>\n",
       "      <th>Predicted 1</th>\n",
       "    </tr>\n",
       "  </thead>\n",
       "  <tbody>\n",
       "    <tr>\n",
       "      <th>Actual 0</th>\n",
       "      <td>307</td>\n",
       "      <td>37</td>\n",
       "    </tr>\n",
       "    <tr>\n",
       "      <th>Actual 1</th>\n",
       "      <td>43</td>\n",
       "      <td>138</td>\n",
       "    </tr>\n",
       "  </tbody>\n",
       "</table>\n",
       "</div>"
      ],
      "text/plain": [
       "          Predicted 0  Predicted 1\n",
       "Actual 0          307           37\n",
       "Actual 1           43          138"
      ]
     },
     "metadata": {},
     "output_type": "display_data"
    }
   ],
   "source": [
    "# Generatring the confusion matrix\n",
    "cm = confusion_matrix(y_test, predictions)\n",
    "cm_df = pd.DataFrame(\n",
    "    cm, index=[\"Actual 0\", \"Actual 1\"], columns=[\n",
    "        \"Predicted 0\",\n",
    "        \"Predicted 1\"\n",
    "    ]\n",
    ")\n",
    "\n",
    "display(cm_df)"
   ]
  },
  {
   "cell_type": "code",
   "execution_count": 13,
   "metadata": {},
   "outputs": [
    {
     "name": "stdout",
     "output_type": "stream",
     "text": [
      "              precision    recall  f1-score   support\n",
      "\n",
      "           0       0.88      0.89      0.88       344\n",
      "           1       0.79      0.76      0.78       181\n",
      "\n",
      "    accuracy                           0.85       525\n",
      "   macro avg       0.83      0.83      0.83       525\n",
      "weighted avg       0.85      0.85      0.85       525\n",
      "\n"
     ]
    }
   ],
   "source": [
    "# Generate classification report\n",
    "print(classification_report(y_test, predictions))"
   ]
  }
 ],
 "metadata": {
  "file_extension": ".py",
  "kernelspec": {
   "display_name": "Python 3",
   "language": "python",
   "name": "python3"
  },
  "language_info": {
   "codemirror_mode": {
    "name": "ipython",
    "version": 3
   },
   "file_extension": ".py",
   "mimetype": "text/x-python",
   "name": "python",
   "nbconvert_exporter": "python",
   "pygments_lexer": "ipython3",
   "version": "3.8.7-final"
  },
  "mimetype": "text/x-python",
  "name": "python",
  "npconvert_exporter": "python",
  "pygments_lexer": "ipython3",
  "version": 3
 },
 "nbformat": 4,
 "nbformat_minor": 4
}